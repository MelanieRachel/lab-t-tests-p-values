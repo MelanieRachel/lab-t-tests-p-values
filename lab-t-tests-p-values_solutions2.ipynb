{
 "cells": [
  {
   "cell_type": "markdown",
   "id": "1b76a14c",
   "metadata": {},
   "source": [
    "**Lab | Inferential statistics - T-test & P-value**"
   ]
  },
  {
   "cell_type": "markdown",
   "id": "14575953",
   "metadata": {},
   "source": [
    "1. One-tailed t-test"
   ]
  },
  {
   "cell_type": "code",
   "execution_count": null,
   "id": "0e5544c1",
   "metadata": {},
   "outputs": [],
   "source": [
    "# In a packing plant, a machine packs cartons with jars. \n",
    "# H0:It is supposed that a **new machine** will pack **faster on average** than the machine currently used. \n",
    "# To **test that hypothesis**, the **times each machine takes to pack ten cartons** are recorded. \n",
    "# The results are in **seconds** in the tables in the file files_for_lab/machine.txt. \n",
    "# Assume that there is sufficient evidence to conduct the **t-test**, \n",
    "# does the data provide sufficient evidence to show if one machine is better than the other?\n",
    "\n",
    "H0 = The new machine is faster on average than the old machine\n",
    "H1 = The new machine is not faster on average than the old machine\n",
    "\n",
    "How do I test this hypothesis?\n",
    "Is there sufficient evidence to conduct the t-test?\n",
    "Does the data provide sufficient evidence to show if one machine is better than the other?\n",
    "How many cartons (ten cartons)"
   ]
  },
  {
   "cell_type": "code",
   "execution_count": 2,
   "id": "58e73103",
   "metadata": {},
   "outputs": [],
   "source": [
    "# Loading libraries\n",
    "\n",
    "import pandas as pd\n",
    "import numpy as np\n",
    "import scipy.stats as st\n",
    "import matplotlib.pyplot as plt\n",
    "import seaborn as sns\n",
    "\n",
    "pd.set_option('display.max_columns', None)\n",
    "# import warnings\n",
    "# warnings.filterwarnings('ignore')"
   ]
  },
  {
   "cell_type": "code",
   "execution_count": 3,
   "id": "62f8c3d1",
   "metadata": {},
   "outputs": [
    {
     "data": {
      "text/plain": [
       "'New machine\\t    Old machine\\n42.1\\t        42.7\\n41\\t            43.6\\n41.3\\t        43.8\\n41.8\\t        43.3\\n42.4\\t        42.5\\n42.8\\t        43.5\\n43.2\\t        43.1\\n42.3\\t        41.7\\n41.8\\t        44\\n42.7\\t        44.1\\n'"
      ]
     },
     "execution_count": 3,
     "metadata": {},
     "output_type": "execute_result"
    }
   ],
   "source": [
    "# Prepare your data:\n",
    "# Reading data\n",
    "\n",
    "with open('machine.txt', 'r', encoding='utf-16', errors='replace') as file:\n",
    "    data = file.read()\n",
    "data"
   ]
  },
  {
   "cell_type": "code",
   "execution_count": 4,
   "id": "173d7def",
   "metadata": {},
   "outputs": [
    {
     "name": "stdout",
     "output_type": "stream",
     "text": [
      "Detected encoding: UTF-16\n"
     ]
    },
    {
     "data": {
      "text/html": [
       "<div>\n",
       "<style scoped>\n",
       "    .dataframe tbody tr th:only-of-type {\n",
       "        vertical-align: middle;\n",
       "    }\n",
       "\n",
       "    .dataframe tbody tr th {\n",
       "        vertical-align: top;\n",
       "    }\n",
       "\n",
       "    .dataframe thead th {\n",
       "        text-align: right;\n",
       "    }\n",
       "</style>\n",
       "<table border=\"1\" class=\"dataframe\">\n",
       "  <thead>\n",
       "    <tr style=\"text-align: right;\">\n",
       "      <th></th>\n",
       "      <th>New machine</th>\n",
       "      <th>Old machine</th>\n",
       "    </tr>\n",
       "  </thead>\n",
       "  <tbody>\n",
       "    <tr>\n",
       "      <th>0</th>\n",
       "      <td>42.1</td>\n",
       "      <td>42.7</td>\n",
       "    </tr>\n",
       "    <tr>\n",
       "      <th>1</th>\n",
       "      <td>41.0</td>\n",
       "      <td>43.6</td>\n",
       "    </tr>\n",
       "    <tr>\n",
       "      <th>2</th>\n",
       "      <td>41.3</td>\n",
       "      <td>43.8</td>\n",
       "    </tr>\n",
       "    <tr>\n",
       "      <th>3</th>\n",
       "      <td>41.8</td>\n",
       "      <td>43.3</td>\n",
       "    </tr>\n",
       "    <tr>\n",
       "      <th>4</th>\n",
       "      <td>42.4</td>\n",
       "      <td>42.5</td>\n",
       "    </tr>\n",
       "  </tbody>\n",
       "</table>\n",
       "</div>"
      ],
      "text/plain": [
       "   New machine      Old machine\n",
       "0         42.1             42.7\n",
       "1         41.0             43.6\n",
       "2         41.3             43.8\n",
       "3         41.8             43.3\n",
       "4         42.4             42.5"
      ]
     },
     "execution_count": 4,
     "metadata": {},
     "output_type": "execute_result"
    }
   ],
   "source": [
    "# Prepare your data:\n",
    "# Reading data\n",
    "\n",
    "import chardet\n",
    "# Detect the encoding of the file\n",
    "file_path = 'machine.txt'\n",
    "with open(file_path, 'rb') as f:\n",
    "    result = chardet.detect(f.read())\n",
    "encoding = result['encoding']\n",
    "print(f\"Detected encoding: {encoding}\")\n",
    "# Read the file with the detected encoding\n",
    "data = pd.read_csv(file_path, sep='\\t', encoding=encoding)\n",
    "data.head()"
   ]
  },
  {
   "cell_type": "code",
   "execution_count": null,
   "id": "5d1155a3",
   "metadata": {},
   "outputs": [],
   "source": [
    "One-tailed t-test:\n",
    "# Determine whether there is a statistically significant difference between the means of two groups, \n",
    "#while focusing on a specific direction of the difference.\n",
    "# It is used to test whether the sample data provides enough evidence \n",
    "#to support a hypothesis that the population means are greater than or less than a certain value"
   ]
  },
  {
   "cell_type": "code",
   "execution_count": 5,
   "id": "fb0f0ed7",
   "metadata": {},
   "outputs": [
    {
     "data": {
      "text/html": [
       "<div>\n",
       "<style scoped>\n",
       "    .dataframe tbody tr th:only-of-type {\n",
       "        vertical-align: middle;\n",
       "    }\n",
       "\n",
       "    .dataframe tbody tr th {\n",
       "        vertical-align: top;\n",
       "    }\n",
       "\n",
       "    .dataframe thead th {\n",
       "        text-align: right;\n",
       "    }\n",
       "</style>\n",
       "<table border=\"1\" class=\"dataframe\">\n",
       "  <thead>\n",
       "    <tr style=\"text-align: right;\">\n",
       "      <th></th>\n",
       "      <th>New machine</th>\n",
       "      <th>Old machine</th>\n",
       "    </tr>\n",
       "  </thead>\n",
       "  <tbody>\n",
       "    <tr>\n",
       "      <th>0</th>\n",
       "      <td>42.1</td>\n",
       "      <td>42.7</td>\n",
       "    </tr>\n",
       "    <tr>\n",
       "      <th>1</th>\n",
       "      <td>41.0</td>\n",
       "      <td>43.6</td>\n",
       "    </tr>\n",
       "    <tr>\n",
       "      <th>2</th>\n",
       "      <td>41.3</td>\n",
       "      <td>43.8</td>\n",
       "    </tr>\n",
       "    <tr>\n",
       "      <th>3</th>\n",
       "      <td>41.8</td>\n",
       "      <td>43.3</td>\n",
       "    </tr>\n",
       "    <tr>\n",
       "      <th>4</th>\n",
       "      <td>42.4</td>\n",
       "      <td>42.5</td>\n",
       "    </tr>\n",
       "    <tr>\n",
       "      <th>5</th>\n",
       "      <td>42.8</td>\n",
       "      <td>43.5</td>\n",
       "    </tr>\n",
       "    <tr>\n",
       "      <th>6</th>\n",
       "      <td>43.2</td>\n",
       "      <td>43.1</td>\n",
       "    </tr>\n",
       "    <tr>\n",
       "      <th>7</th>\n",
       "      <td>42.3</td>\n",
       "      <td>41.7</td>\n",
       "    </tr>\n",
       "    <tr>\n",
       "      <th>8</th>\n",
       "      <td>41.8</td>\n",
       "      <td>44.0</td>\n",
       "    </tr>\n",
       "    <tr>\n",
       "      <th>9</th>\n",
       "      <td>42.7</td>\n",
       "      <td>44.1</td>\n",
       "    </tr>\n",
       "  </tbody>\n",
       "</table>\n",
       "</div>"
      ],
      "text/plain": [
       "   New machine      Old machine\n",
       "0         42.1             42.7\n",
       "1         41.0             43.6\n",
       "2         41.3             43.8\n",
       "3         41.8             43.3\n",
       "4         42.4             42.5\n",
       "5         42.8             43.5\n",
       "6         43.2             43.1\n",
       "7         42.3             41.7\n",
       "8         41.8             44.0\n",
       "9         42.7             44.1"
      ]
     },
     "execution_count": 5,
     "metadata": {},
     "output_type": "execute_result"
    }
   ],
   "source": [
    "data"
   ]
  },
  {
   "cell_type": "code",
   "execution_count": 6,
   "id": "0040460a",
   "metadata": {},
   "outputs": [
    {
     "data": {
      "text/html": [
       "<div>\n",
       "<style scoped>\n",
       "    .dataframe tbody tr th:only-of-type {\n",
       "        vertical-align: middle;\n",
       "    }\n",
       "\n",
       "    .dataframe tbody tr th {\n",
       "        vertical-align: top;\n",
       "    }\n",
       "\n",
       "    .dataframe thead th {\n",
       "        text-align: right;\n",
       "    }\n",
       "</style>\n",
       "<table border=\"1\" class=\"dataframe\">\n",
       "  <thead>\n",
       "    <tr style=\"text-align: right;\">\n",
       "      <th></th>\n",
       "      <th>New</th>\n",
       "      <th>Old machine</th>\n",
       "    </tr>\n",
       "  </thead>\n",
       "  <tbody>\n",
       "    <tr>\n",
       "      <th>0</th>\n",
       "      <td>42.1</td>\n",
       "      <td>42.7</td>\n",
       "    </tr>\n",
       "    <tr>\n",
       "      <th>1</th>\n",
       "      <td>41.0</td>\n",
       "      <td>43.6</td>\n",
       "    </tr>\n",
       "    <tr>\n",
       "      <th>2</th>\n",
       "      <td>41.3</td>\n",
       "      <td>43.8</td>\n",
       "    </tr>\n",
       "    <tr>\n",
       "      <th>3</th>\n",
       "      <td>41.8</td>\n",
       "      <td>43.3</td>\n",
       "    </tr>\n",
       "    <tr>\n",
       "      <th>4</th>\n",
       "      <td>42.4</td>\n",
       "      <td>42.5</td>\n",
       "    </tr>\n",
       "    <tr>\n",
       "      <th>5</th>\n",
       "      <td>42.8</td>\n",
       "      <td>43.5</td>\n",
       "    </tr>\n",
       "    <tr>\n",
       "      <th>6</th>\n",
       "      <td>43.2</td>\n",
       "      <td>43.1</td>\n",
       "    </tr>\n",
       "    <tr>\n",
       "      <th>7</th>\n",
       "      <td>42.3</td>\n",
       "      <td>41.7</td>\n",
       "    </tr>\n",
       "    <tr>\n",
       "      <th>8</th>\n",
       "      <td>41.8</td>\n",
       "      <td>44.0</td>\n",
       "    </tr>\n",
       "    <tr>\n",
       "      <th>9</th>\n",
       "      <td>42.7</td>\n",
       "      <td>44.1</td>\n",
       "    </tr>\n",
       "  </tbody>\n",
       "</table>\n",
       "</div>"
      ],
      "text/plain": [
       "    New      Old machine\n",
       "0  42.1             42.7\n",
       "1  41.0             43.6\n",
       "2  41.3             43.8\n",
       "3  41.8             43.3\n",
       "4  42.4             42.5\n",
       "5  42.8             43.5\n",
       "6  43.2             43.1\n",
       "7  42.3             41.7\n",
       "8  41.8             44.0\n",
       "9  42.7             44.1"
      ]
     },
     "execution_count": 6,
     "metadata": {},
     "output_type": "execute_result"
    }
   ],
   "source": [
    "# Rename 'New machine' to 'New'\n",
    "#data.rename(columns={'New machine': 'New','Old machine': 'Old'}, inplace=True)\n",
    "data.rename(columns={'New machine': 'New'}, inplace=True)\n",
    "#print(data)\n",
    "data"
   ]
  },
  {
   "cell_type": "code",
   "execution_count": 7,
   "id": "9eb5c055",
   "metadata": {},
   "outputs": [
    {
     "data": {
      "text/html": [
       "<div>\n",
       "<style scoped>\n",
       "    .dataframe tbody tr th:only-of-type {\n",
       "        vertical-align: middle;\n",
       "    }\n",
       "\n",
       "    .dataframe tbody tr th {\n",
       "        vertical-align: top;\n",
       "    }\n",
       "\n",
       "    .dataframe thead th {\n",
       "        text-align: right;\n",
       "    }\n",
       "</style>\n",
       "<table border=\"1\" class=\"dataframe\">\n",
       "  <thead>\n",
       "    <tr style=\"text-align: right;\">\n",
       "      <th></th>\n",
       "      <th>New</th>\n",
       "      <th>Old machine</th>\n",
       "    </tr>\n",
       "  </thead>\n",
       "  <tbody>\n",
       "    <tr>\n",
       "      <th>0</th>\n",
       "      <td>42.1</td>\n",
       "      <td>42.7</td>\n",
       "    </tr>\n",
       "    <tr>\n",
       "      <th>1</th>\n",
       "      <td>41.0</td>\n",
       "      <td>43.6</td>\n",
       "    </tr>\n",
       "    <tr>\n",
       "      <th>2</th>\n",
       "      <td>41.3</td>\n",
       "      <td>43.8</td>\n",
       "    </tr>\n",
       "    <tr>\n",
       "      <th>3</th>\n",
       "      <td>41.8</td>\n",
       "      <td>43.3</td>\n",
       "    </tr>\n",
       "    <tr>\n",
       "      <th>4</th>\n",
       "      <td>42.4</td>\n",
       "      <td>42.5</td>\n",
       "    </tr>\n",
       "    <tr>\n",
       "      <th>5</th>\n",
       "      <td>42.8</td>\n",
       "      <td>43.5</td>\n",
       "    </tr>\n",
       "    <tr>\n",
       "      <th>6</th>\n",
       "      <td>43.2</td>\n",
       "      <td>43.1</td>\n",
       "    </tr>\n",
       "    <tr>\n",
       "      <th>7</th>\n",
       "      <td>42.3</td>\n",
       "      <td>41.7</td>\n",
       "    </tr>\n",
       "    <tr>\n",
       "      <th>8</th>\n",
       "      <td>41.8</td>\n",
       "      <td>44.0</td>\n",
       "    </tr>\n",
       "    <tr>\n",
       "      <th>9</th>\n",
       "      <td>42.7</td>\n",
       "      <td>44.1</td>\n",
       "    </tr>\n",
       "  </tbody>\n",
       "</table>\n",
       "</div>"
      ],
      "text/plain": [
       "    New      Old machine\n",
       "0  42.1             42.7\n",
       "1  41.0             43.6\n",
       "2  41.3             43.8\n",
       "3  41.8             43.3\n",
       "4  42.4             42.5\n",
       "5  42.8             43.5\n",
       "6  43.2             43.1\n",
       "7  42.3             41.7\n",
       "8  41.8             44.0\n",
       "9  42.7             44.1"
      ]
     },
     "execution_count": 7,
     "metadata": {},
     "output_type": "execute_result"
    }
   ],
   "source": [
    "data.rename(columns={'Old machine': 'Old'}, inplace=True)\n",
    "data"
   ]
  },
  {
   "cell_type": "code",
   "execution_count": null,
   "id": "11f6a636",
   "metadata": {},
   "outputs": [],
   "source": [
    "# Prepare your data:\n",
    "# Retrieve one column from a dataset\n",
    "# Extract the column using square brackets\n",
    "population_data = data[\"Old machine\"]"
   ]
  },
  {
   "cell_type": "code",
   "execution_count": 10,
   "id": "23d4a25b",
   "metadata": {},
   "outputs": [
    {
     "data": {
      "text/plain": [
       "0    42.1\n",
       "1    41.0\n",
       "2    41.3\n",
       "3    41.8\n",
       "4    42.4\n",
       "Name: New, dtype: float64"
      ]
     },
     "execution_count": 10,
     "metadata": {},
     "output_type": "execute_result"
    }
   ],
   "source": [
    "# Extract the column using square brackets\n",
    "sample_data = data['New']\n",
    "\n",
    "# Print the extracted columns\n",
    "#print(\"New Column:\")\n",
    "#print(sm_column)\n",
    "sample_data.head()"
   ]
  },
  {
   "cell_type": "code",
   "execution_count": null,
   "id": "24d60de0",
   "metadata": {},
   "outputs": [],
   "source": [
    "# Calculate the population mean\n",
    "population_data = data['Old']\n",
    "population_mean = sum(population_data) / len(population_data)\n",
    "\n",
    "# Print the result\n",
    "print(\"Population Mean:\", population_mean)"
   ]
  },
  {
   "cell_type": "code",
   "execution_count": 21,
   "id": "42705382",
   "metadata": {},
   "outputs": [
    {
     "ename": "KeyError",
     "evalue": "'Old machine'",
     "output_type": "error",
     "traceback": [
      "\u001b[0;31m---------------------------------------------------------------------------\u001b[0m",
      "\u001b[0;31mKeyError\u001b[0m                                  Traceback (most recent call last)",
      "File \u001b[0;32m~/anaconda3/lib/python3.11/site-packages/pandas/core/indexes/base.py:3802\u001b[0m, in \u001b[0;36mIndex.get_loc\u001b[0;34m(self, key, method, tolerance)\u001b[0m\n\u001b[1;32m   3801\u001b[0m \u001b[38;5;28;01mtry\u001b[39;00m:\n\u001b[0;32m-> 3802\u001b[0m     \u001b[38;5;28;01mreturn\u001b[39;00m \u001b[38;5;28mself\u001b[39m\u001b[38;5;241m.\u001b[39m_engine\u001b[38;5;241m.\u001b[39mget_loc(casted_key)\n\u001b[1;32m   3803\u001b[0m \u001b[38;5;28;01mexcept\u001b[39;00m \u001b[38;5;167;01mKeyError\u001b[39;00m \u001b[38;5;28;01mas\u001b[39;00m err:\n",
      "File \u001b[0;32m~/anaconda3/lib/python3.11/site-packages/pandas/_libs/index.pyx:138\u001b[0m, in \u001b[0;36mpandas._libs.index.IndexEngine.get_loc\u001b[0;34m()\u001b[0m\n",
      "File \u001b[0;32m~/anaconda3/lib/python3.11/site-packages/pandas/_libs/index.pyx:165\u001b[0m, in \u001b[0;36mpandas._libs.index.IndexEngine.get_loc\u001b[0;34m()\u001b[0m\n",
      "File \u001b[0;32mpandas/_libs/hashtable_class_helper.pxi:5745\u001b[0m, in \u001b[0;36mpandas._libs.hashtable.PyObjectHashTable.get_item\u001b[0;34m()\u001b[0m\n",
      "File \u001b[0;32mpandas/_libs/hashtable_class_helper.pxi:5753\u001b[0m, in \u001b[0;36mpandas._libs.hashtable.PyObjectHashTable.get_item\u001b[0;34m()\u001b[0m\n",
      "\u001b[0;31mKeyError\u001b[0m: 'Old machine'",
      "\nThe above exception was the direct cause of the following exception:\n",
      "\u001b[0;31mKeyError\u001b[0m                                  Traceback (most recent call last)",
      "Cell \u001b[0;32mIn[21], line 2\u001b[0m\n\u001b[1;32m      1\u001b[0m \u001b[38;5;66;03m#mean_column1 = data['Column1'].mean()\u001b[39;00m\n\u001b[0;32m----> 2\u001b[0m population_mean \u001b[38;5;241m=\u001b[39m data[\u001b[38;5;124m'\u001b[39m\u001b[38;5;124mOld machine\u001b[39m\u001b[38;5;124m'\u001b[39m]\u001b[38;5;241m.\u001b[39mmean()\n",
      "File \u001b[0;32m~/anaconda3/lib/python3.11/site-packages/pandas/core/frame.py:3807\u001b[0m, in \u001b[0;36mDataFrame.__getitem__\u001b[0;34m(self, key)\u001b[0m\n\u001b[1;32m   3805\u001b[0m \u001b[38;5;28;01mif\u001b[39;00m \u001b[38;5;28mself\u001b[39m\u001b[38;5;241m.\u001b[39mcolumns\u001b[38;5;241m.\u001b[39mnlevels \u001b[38;5;241m>\u001b[39m \u001b[38;5;241m1\u001b[39m:\n\u001b[1;32m   3806\u001b[0m     \u001b[38;5;28;01mreturn\u001b[39;00m \u001b[38;5;28mself\u001b[39m\u001b[38;5;241m.\u001b[39m_getitem_multilevel(key)\n\u001b[0;32m-> 3807\u001b[0m indexer \u001b[38;5;241m=\u001b[39m \u001b[38;5;28mself\u001b[39m\u001b[38;5;241m.\u001b[39mcolumns\u001b[38;5;241m.\u001b[39mget_loc(key)\n\u001b[1;32m   3808\u001b[0m \u001b[38;5;28;01mif\u001b[39;00m is_integer(indexer):\n\u001b[1;32m   3809\u001b[0m     indexer \u001b[38;5;241m=\u001b[39m [indexer]\n",
      "File \u001b[0;32m~/anaconda3/lib/python3.11/site-packages/pandas/core/indexes/base.py:3804\u001b[0m, in \u001b[0;36mIndex.get_loc\u001b[0;34m(self, key, method, tolerance)\u001b[0m\n\u001b[1;32m   3802\u001b[0m     \u001b[38;5;28;01mreturn\u001b[39;00m \u001b[38;5;28mself\u001b[39m\u001b[38;5;241m.\u001b[39m_engine\u001b[38;5;241m.\u001b[39mget_loc(casted_key)\n\u001b[1;32m   3803\u001b[0m \u001b[38;5;28;01mexcept\u001b[39;00m \u001b[38;5;167;01mKeyError\u001b[39;00m \u001b[38;5;28;01mas\u001b[39;00m err:\n\u001b[0;32m-> 3804\u001b[0m     \u001b[38;5;28;01mraise\u001b[39;00m \u001b[38;5;167;01mKeyError\u001b[39;00m(key) \u001b[38;5;28;01mfrom\u001b[39;00m \u001b[38;5;21;01merr\u001b[39;00m\n\u001b[1;32m   3805\u001b[0m \u001b[38;5;28;01mexcept\u001b[39;00m \u001b[38;5;167;01mTypeError\u001b[39;00m:\n\u001b[1;32m   3806\u001b[0m     \u001b[38;5;66;03m# If we have a listlike key, _check_indexing_error will raise\u001b[39;00m\n\u001b[1;32m   3807\u001b[0m     \u001b[38;5;66;03m#  InvalidIndexError. Otherwise we fall through and re-raise\u001b[39;00m\n\u001b[1;32m   3808\u001b[0m     \u001b[38;5;66;03m#  the TypeError.\u001b[39;00m\n\u001b[1;32m   3809\u001b[0m     \u001b[38;5;28mself\u001b[39m\u001b[38;5;241m.\u001b[39m_check_indexing_error(key)\n",
      "\u001b[0;31mKeyError\u001b[0m: 'Old machine'"
     ]
    }
   ],
   "source": [
    "#mean_column1 = data['Column1'].mean()\n",
    "population_mean = data['Old machine'].mean()"
   ]
  },
  {
   "cell_type": "code",
   "execution_count": 11,
   "id": "c62b1ed0",
   "metadata": {},
   "outputs": [
    {
     "name": "stdout",
     "output_type": "stream",
     "text": [
      "Sample Mean: 42.14\n"
     ]
    }
   ],
   "source": [
    "# Calculate the sample mean\n",
    "sample_data = data['New'] # Sample data representing your sample (replace this with your actual data)\n",
    "sample_mean = sum(sample_data) / len(sample_data)\n",
    "\n",
    "# Print the result\n",
    "print(\"Sample Mean:\", sample_mean)"
   ]
  },
  {
   "cell_type": "code",
   "execution_count": 17,
   "id": "c30697cf",
   "metadata": {},
   "outputs": [
    {
     "name": "stdout",
     "output_type": "stream",
     "text": [
      "Sample Mean: 42.14\n"
     ]
    }
   ],
   "source": [
    "sample_mean = sample_data.mean()\n",
    "print(\"Sample Mean:\", sample_mean)\n",
    "#sample_mean"
   ]
  },
  {
   "cell_type": "code",
   "execution_count": 19,
   "id": "1750f125",
   "metadata": {},
   "outputs": [
    {
     "name": "stdout",
     "output_type": "stream",
     "text": [
      "Our sample mean is: 42.14\n",
      "Our sample standard deviation is: nan\n",
      "The sem is: nan\n",
      "\n"
     ]
    }
   ],
   "source": [
    "sample_std = sample_mean.std(ddof=1)\n",
    "sem = sample_std/np.sqrt(30)\n",
    "#t = (sample_mean - population_mean) / sem\n",
    "\n",
    "print(\"Our sample mean is: {:.2f}\".format(sample_mean))\n",
    "print(\"Our sample standard deviation is: {:.2f}\".format(sample_std))\n",
    "print(\"The sem is: {:.2f}\".format(sem))\n",
    "print()"
   ]
  },
  {
   "cell_type": "code",
   "execution_count": null,
   "id": "4e9216d9",
   "metadata": {},
   "outputs": [],
   "source": [
    "t = (sample_mean - population_mean) / sem\n",
    "print(\"Our statistic is: {:.2f}\".format(t))\n",
    "print(\"The p_value corresponding to our statistic is: {:.2f}\".format(st.t.cdf(t,df = len(sample_data)-1)))\n",
    "print(\"The significance level is set to 0.05\")\n",
    "print(\"We accept the H0?\")"
   ]
  },
  {
   "cell_type": "code",
   "execution_count": null,
   "id": "83f1a95f",
   "metadata": {},
   "outputs": [],
   "source": [
    "# Prepare your data:\n",
    "# Set specific value for comparison\n",
    "\n",
    "specified_value = .. # The value to compare against"
   ]
  },
  {
   "cell_type": "code",
   "execution_count": null,
   "id": "c0fb429d",
   "metadata": {},
   "outputs": [],
   "source": [
    "For example, if you are conducting a one-tailed t-test to determine if a New machine is more effective than \n",
    "an Old machine, you might set μ0 to be the mean effectiveness of the old treatment. \n",
    "In this case, you are testing if the new machine is \"greater than\" the old treatment"
   ]
  },
  {
   "cell_type": "code",
   "execution_count": null,
   "id": "d21853fe",
   "metadata": {},
   "outputs": [],
   "source": [
    "# Specify the null and alternative hypotheses:\n",
    "H0 = The new machine is faster on average than the old machine\n",
    "H1 = The new machine is not faster on average than the old machine\n",
    "\n",
    "# Specify whether you are testing for \"greater than\" or \"less than\" "
   ]
  },
  {
   "cell_type": "code",
   "execution_count": null,
   "id": "04b99c23",
   "metadata": {},
   "outputs": [],
   "source": [
    "# Perform the one-tailed t-test:\n",
    "\n",
    "t_statistic, p_value = stats.ttest_1samp(data, specified_value)\n",
    "\n",
    "# For a one-tailed test for greater than\n",
    "p_value /= 2\n",
    "\n",
    "# Print the results\n",
    "print(\"T-statistic:\", t_statistic)\n",
    "print(\"P-value:\", p_value)"
   ]
  },
  {
   "cell_type": "code",
   "execution_count": null,
   "id": "1ffa4a29",
   "metadata": {},
   "outputs": [],
   "source": [
    "# Choose appropriate significance level (alpha)"
   ]
  },
  {
   "cell_type": "code",
   "execution_count": null,
   "id": "ec810168",
   "metadata": {},
   "outputs": [],
   "source": [
    "# Interpret the results:"
   ]
  },
  {
   "cell_type": "code",
   "execution_count": null,
   "id": "f3d24ac4",
   "metadata": {},
   "outputs": [],
   "source": [
    "# H0: Our hypthesis is that the new machine packs faster than current machine: \n",
    "How do I test hypothesis?\n",
    "Is there sufficient evidence to conduct the t-test?"
   ]
  },
  {
   "cell_type": "markdown",
   "id": "da0d310e",
   "metadata": {},
   "source": [
    "## Questions:"
   ]
  },
  {
   "cell_type": "markdown",
   "id": "008a6447",
   "metadata": {},
   "source": [
    "* How to get **population_mean**?\n",
    "* How to calculate **specified value**?\n",
    "* How to calculate **significance level**?"
   ]
  },
  {
   "cell_type": "markdown",
   "id": "2258ee12",
   "metadata": {},
   "source": [
    "___________________"
   ]
  },
  {
   "cell_type": "markdown",
   "id": "0e704f9c",
   "metadata": {},
   "source": [
    "2. Matched Pairs Test"
   ]
  },
  {
   "cell_type": "code",
   "execution_count": null,
   "id": "c733a158",
   "metadata": {},
   "outputs": [],
   "source": [
    "# In this challenge we will **compare dependent samples of data** describing our Pokemon (file files_for_lab/pokemon.csv). \n",
    "# Our goal is to see whether there is a **significant difference** between each Pokemon's defense and attack scores. \n",
    "# Our **hypthesis** is that the **defense and attack scores are equal**. \n",
    "# Compare the two columns to see if there is a statistically significant difference between them \n",
    "# and **comment on your result**.\n",
    "\n",
    "H0: defense and attack scores are equal.\n",
    "H1: defense and attack scores are not equal\n",
    "    \n",
    "How do I compare dependent samples?\n",
    "How do I see a statistically significant difference?\n",
    "How do I comment on my result?"
   ]
  },
  {
   "cell_type": "code",
   "execution_count": null,
   "id": "5ee55bf7",
   "metadata": {},
   "outputs": [],
   "source": [
    "# Loading libraries\n",
    "\n",
    "import pandas as pd\n",
    "import numpy as np\n",
    "import scipy.stats as st\n",
    "import matplotlib.pyplot as plt\n",
    "import seaborn as sns\n",
    "\n",
    "pd.set_option('display.max_columns', None)\n",
    "# import warnings\n",
    "# warnings.filterwarnings('ignore')"
   ]
  },
  {
   "cell_type": "code",
   "execution_count": null,
   "id": "6296fb0f",
   "metadata": {},
   "outputs": [],
   "source": [
    "# Reading data\n",
    "\n",
    "#data = pd.read_csv('pokemon.csv')\n",
    "data = pd.read_csv('../../Afternoon/lab-t-tests-p-values/files_for_lab/pokemon.csv') # Load your data from a CSV file \n",
    "data"
   ]
  },
  {
   "cell_type": "code",
   "execution_count": null,
   "id": "8da94232",
   "metadata": {},
   "outputs": [],
   "source": [
    "# Prepare your data:\n",
    "# Organize your data in a format suitable for a paired samples test \n",
    "# Have two columns of data: one for the first set of measurements and another for the second set of measurements\n",
    "# Measurements should be paired based on some relationship or matching criterion \n",
    "# (e.g.,measurements before and after an intervention)."
   ]
  },
  {
   "cell_type": "code",
   "execution_count": null,
   "id": "b9db86ff",
   "metadata": {},
   "outputs": [],
   "source": [
    "# Make sure data is properly cleaned and paired"
   ]
  },
  {
   "cell_type": "code",
   "execution_count": null,
   "id": "1362387c",
   "metadata": {},
   "outputs": [],
   "source": [
    "# Perform the paired t-test:\n",
    "\n",
    "first_set = data['First_Set']  # Replace 'First_Set' with the name of your first set of data\n",
    "second_set = data['Second_Set']  # Replace 'Second_Set' with the name of your second set of data\n",
    "\n",
    "t_statistic, p_value = stats.ttest_rel(first_set, second_set)\n",
    "\n",
    "# Print the results\n",
    "print(\"T-statistic:\", t_statistic)\n",
    "print(\"P-value:\", p_value)\n"
   ]
  },
  {
   "cell_type": "code",
   "execution_count": null,
   "id": "e429723b",
   "metadata": {},
   "outputs": [],
   "source": [
    "# Interpret the results:\n",
    "\n",
    "p-value < than significance level (e.g., 0.05) = reject the null hypothesis\n",
    "indicating that there is a significant difference between the two sets of measurements.\n",
    "\n",
    "p-value > than significance level (e.g., 0.05) = fail to reject the null hypothesis"
   ]
  },
  {
   "cell_type": "markdown",
   "id": "2802703b",
   "metadata": {},
   "source": [
    "___________________________"
   ]
  },
  {
   "cell_type": "markdown",
   "id": "54da3b0c",
   "metadata": {},
   "source": [
    "**Inferential statistics - ANOVA**"
   ]
  },
  {
   "cell_type": "markdown",
   "id": "d9e4ab29",
   "metadata": {},
   "source": [
    "Part 1\n",
    "\n",
    "In this activity, we will look at another example.\n",
    "* Your task is to **understand the problem** and **write down all the steps to set up ANOVA**.\n",
    "* After the next lesson, we will ask you to solve this problem using Python.\n",
    "\n",
    "Here are the steps that you would need to work on:\n",
    "* Null hypothesis\n",
    "* Alternate hypothesis\n",
    "* Level of significance\n",
    "* Test statistic\n",
    "* P-value\n",
    "* F table"
   ]
  },
  {
   "cell_type": "code",
   "execution_count": null,
   "id": "c1ef1986",
   "metadata": {},
   "outputs": [],
   "source": [
    "Context\n",
    "\n",
    "Suppose you are working as an analyst in a microprocessor chip manufacturing plant. \n",
    "You have been given the task of **analyzing a plasma etching process** \n",
    "with respect to changing Power (in Watts) of the plasma beam. \n",
    "\n",
    "Data was collected and provided to you to conduct statistical analysis \n",
    "#and check if changing the power of the plasma beam has any effect on the etching rate by the machine. \n",
    "#You will conduct ANOVA and check if there is any difference in the mean etching rate for different levels of power. \n",
    "You can find the data anova_lab_data.xlsx file in the files_for_lab folder\n",
    "\n",
    "H0: changing the power of the plasma beam has effect on the etching rate by the machine\n",
    "H1: changing the power of the plasma beam has no effect on the etching rate by the machine \n",
    "\n",
    "How do I conduct statistical analysis on data?\n",
    "How do I get power of the plasma beam and effect on the etching rate by the machine?\n",
    "How do I measure the difference?\n",
    "How do I measure the difference in the mean etching rate?\n",
    "How do I measure the difference in the mean etching rate for different levels of power?\n",
    "How do I compare different levels of power?"
   ]
  },
  {
   "cell_type": "code",
   "execution_count": null,
   "id": "0d375c78",
   "metadata": {},
   "outputs": [],
   "source": [
    "# Reading data\n",
    "\n",
    "#data = pd.read_excel('anova_lab_data.xlsx')\n",
    "data = pd.read_excel('../../Afternoon/lab-t-tests-p-values/files_for_lab/anova_lab_data.xlsx')\n",
    "data"
   ]
  },
  {
   "cell_type": "code",
   "execution_count": null,
   "id": "81c29356",
   "metadata": {},
   "outputs": [],
   "source": []
  },
  {
   "cell_type": "code",
   "execution_count": null,
   "id": "94bc1b0b",
   "metadata": {},
   "outputs": [],
   "source": []
  },
  {
   "cell_type": "markdown",
   "id": "df0a5399",
   "metadata": {},
   "source": [
    "Part 2\n",
    "\n",
    "* In this section, use **Python to conduct ANOVA**.\n",
    "* What **conclusions** can you draw from the experiment and why?"
   ]
  },
  {
   "cell_type": "code",
   "execution_count": null,
   "id": "193a72f1",
   "metadata": {},
   "outputs": [],
   "source": [
    "# Import the required libraries\n",
    "\n",
    "import scipy.stats as stats\n",
    "import pandas as pd\n",
    "import statsmodels.api as sm\n",
    "from statsmodels.formula.api import ols"
   ]
  },
  {
   "cell_type": "code",
   "execution_count": null,
   "id": "a44ede53",
   "metadata": {},
   "outputs": [],
   "source": [
    "# Ensure that your data is properly cleaned and prepared before performing the ANOVA analysis:"
   ]
  },
  {
   "cell_type": "code",
   "execution_count": null,
   "id": "eaa4d5de",
   "metadata": {},
   "outputs": [],
   "source": [
    "# Prepare your data:\n",
    "data = pd.read_csv('your_data.csv')  # Load your data from a CSV file or use your own data"
   ]
  },
  {
   "cell_type": "code",
   "execution_count": null,
   "id": "1e5afada",
   "metadata": {},
   "outputs": [],
   "source": [
    "# Perform the ANOVA:\n",
    "# Using scipy.stats\n",
    "\n",
    "groups = data['Group']  # Replace 'Group' with the name of your group column\n",
    "values = data['Values']  # Replace 'Values' with the name of your data column\n",
    "\n",
    "f_statistic, p_value = stats.f_oneway(*[values[groups == group] for group in groups.unique()])\n",
    "\n",
    "# Print the ANOVA results\n",
    "print(\"F-statistic:\", f_statistic)\n",
    "print(\"P-value:\", p_value)"
   ]
  },
  {
   "cell_type": "code",
   "execution_count": null,
   "id": "c66740dc",
   "metadata": {},
   "outputs": [],
   "source": [
    "# Interpret the results:\n",
    "If the p-value is less than your chosen significance level (e.g., 0.05), \n",
    "you can reject the null hypothesis, \n",
    "indicating that there are significant differences between at least two of the groups."
   ]
  },
  {
   "cell_type": "code",
   "execution_count": null,
   "id": "10fd348f",
   "metadata": {},
   "outputs": [],
   "source": [
    "# What conclusions can you draw from the experiment and why?"
   ]
  }
 ],
 "metadata": {
  "kernelspec": {
   "display_name": "Python 3 (ipykernel)",
   "language": "python",
   "name": "python3"
  },
  "language_info": {
   "codemirror_mode": {
    "name": "ipython",
    "version": 3
   },
   "file_extension": ".py",
   "mimetype": "text/x-python",
   "name": "python",
   "nbconvert_exporter": "python",
   "pygments_lexer": "ipython3",
   "version": "3.11.3"
  }
 },
 "nbformat": 4,
 "nbformat_minor": 5
}
